{
 "cells": [
  {
   "cell_type": "code",
   "execution_count": 1,
   "metadata": {},
   "outputs": [],
   "source": [
    "using CairoMakie\n",
    "using ArchGDAL\n",
    "using DataFrames"
   ]
  },
  {
   "cell_type": "code",
   "execution_count": 11,
   "metadata": {},
   "outputs": [
    {
     "data": {
      "text/html": [
       "<div class=\"data-frame\"><p>1,717 rows × 45 columns (omitted printing of 36 columns)</p><table class=\"data-frame\"><thead><tr><th></th><th>area_ha</th><th>pas</th><th>cul</th><th>bn</th><th>par</th><th>por_pas</th><th>por_cul</th><th>veg_rem</th><th>veg_prot</th></tr><tr><th></th><th title=\"Float64\">Float64</th><th title=\"Float64\">Float64</th><th title=\"Float64\">Float64</th><th title=\"Float64\">Float64</th><th title=\"Float64\">Float64</th><th title=\"Float64\">Float64</th><th title=\"Float64\">Float64</th><th title=\"Float64\">Float64</th><th title=\"Float64\">Float64</th></tr></thead><tbody><tr><th>1</th><td>170.19</td><td>48.2107</td><td>0.243454</td><td>109.713</td><td>0.0</td><td>28.3276</td><td>0.143049</td><td>118.829</td><td>0.0</td></tr><tr><th>2</th><td>2270.7</td><td>1259.17</td><td>120.59</td><td>493.148</td><td>0.0</td><td>55.4528</td><td>5.31068</td><td>713.651</td><td>0.0</td></tr><tr><th>3</th><td>1243.71</td><td>398.371</td><td>12.8656</td><td>758.724</td><td>0.0</td><td>32.0309</td><td>1.03446</td><td>773.374</td><td>0.0</td></tr><tr><th>4</th><td>495.36</td><td>136.916</td><td>2.6696</td><td>301.582</td><td>0.0</td><td>27.6397</td><td>0.538921</td><td>351.013</td><td>0.0</td></tr><tr><th>5</th><td>298.71</td><td>93.2565</td><td>0.0</td><td>187.779</td><td>0.0</td><td>31.2198</td><td>0.0</td><td>187.779</td><td>0.0</td></tr><tr><th>6</th><td>115.47</td><td>36.8168</td><td>0.0</td><td>57.3447</td><td>0.0</td><td>31.8843</td><td>0.0</td><td>57.4489</td><td>0.0</td></tr><tr><th>7</th><td>2297.52</td><td>992.284</td><td>62.1743</td><td>677.594</td><td>0.0</td><td>43.1893</td><td>2.70615</td><td>1198.62</td><td>0.0</td></tr><tr><th>8</th><td>2060.73</td><td>1256.01</td><td>122.199</td><td>320.99</td><td>0.0</td><td>60.9496</td><td>5.9299</td><td>507.254</td><td>0.0</td></tr><tr><th>9</th><td>850.32</td><td>108.453</td><td>0.0</td><td>519.394</td><td>0.0</td><td>12.7544</td><td>0.0</td><td>662.734</td><td>0.0</td></tr><tr><th>10</th><td>1018.08</td><td>380.554</td><td>33.2119</td><td>573.634</td><td>0.0</td><td>37.3796</td><td>3.26221</td><td>598.446</td><td>168.798</td></tr><tr><th>11</th><td>599.31</td><td>222.672</td><td>81.569</td><td>185.85</td><td>0.0</td><td>37.1547</td><td>13.6105</td><td>280.381</td><td>98.8155</td></tr><tr><th>12</th><td>1535.31</td><td>869.0</td><td>36.3189</td><td>579.412</td><td>0.0</td><td>56.601</td><td>2.36557</td><td>623.891</td><td>488.736</td></tr><tr><th>13</th><td>1678.23</td><td>308.447</td><td>0.0</td><td>1229.2</td><td>0.0</td><td>18.3793</td><td>0.0</td><td>1325.01</td><td>16.8409</td></tr><tr><th>14</th><td>1998.36</td><td>295.689</td><td>0.0</td><td>1523.58</td><td>0.0</td><td>14.7966</td><td>0.0</td><td>1630.12</td><td>10.0662</td></tr><tr><th>15</th><td>292.23</td><td>139.59</td><td>20.118</td><td>115.73</td><td>0.0</td><td>47.7673</td><td>6.88429</td><td>132.522</td><td>132.522</td></tr><tr><th>16</th><td>1833.84</td><td>790.8</td><td>70.6236</td><td>894.672</td><td>0.0</td><td>43.1226</td><td>3.85113</td><td>933.104</td><td>933.062</td></tr><tr><th>17</th><td>2267.37</td><td>842.513</td><td>46.7572</td><td>1300.72</td><td>0.0</td><td>37.1582</td><td>2.06218</td><td>1363.9</td><td>1363.9</td></tr><tr><th>18</th><td>1610.64</td><td>760.456</td><td>22.022</td><td>774.658</td><td>0.0</td><td>47.2145</td><td>1.36728</td><td>828.162</td><td>828.162</td></tr><tr><th>19</th><td>2520.72</td><td>723.786</td><td>164.38</td><td>1317.09</td><td>0.0</td><td>28.7135</td><td>6.52116</td><td>1605.14</td><td>1602.62</td></tr><tr><th>20</th><td>939.87</td><td>137.082</td><td>16.3845</td><td>783.738</td><td>0.0</td><td>14.5852</td><td>1.74328</td><td>784.522</td><td>774.187</td></tr><tr><th>21</th><td>4790.7</td><td>512.118</td><td>0.0</td><td>3963.81</td><td>0.0</td><td>10.6898</td><td>0.0</td><td>4131.19</td><td>1094.66</td></tr><tr><th>22</th><td>221.13</td><td>62.9889</td><td>15.4776</td><td>105.95</td><td>0.0</td><td>28.485</td><td>6.9993</td><td>139.019</td><td>139.019</td></tr><tr><th>23</th><td>868.86</td><td>10.0912</td><td>0.0</td><td>768.955</td><td>0.0</td><td>1.16143</td><td>0.0</td><td>858.769</td><td>0.0</td></tr><tr><th>24</th><td>2747.97</td><td>1084.66</td><td>4.14182</td><td>1494.45</td><td>0.0</td><td>39.4714</td><td>0.150723</td><td>1629.09</td><td>1622.94</td></tr><tr><th>&vellip;</th><td>&vellip;</td><td>&vellip;</td><td>&vellip;</td><td>&vellip;</td><td>&vellip;</td><td>&vellip;</td><td>&vellip;</td><td>&vellip;</td><td>&vellip;</td></tr></tbody></table></div>"
      ],
      "text/latex": [
       "\\begin{tabular}{r|cccccccccc}\n",
       "\t& area\\_ha & pas & cul & bn & par & por\\_pas & por\\_cul & veg\\_rem & veg\\_prot & \\\\\n",
       "\t\\hline\n",
       "\t& Float64 & Float64 & Float64 & Float64 & Float64 & Float64 & Float64 & Float64 & Float64 & \\\\\n",
       "\t\\hline\n",
       "\t1 & 170.19 & 48.2107 & 0.243454 & 109.713 & 0.0 & 28.3276 & 0.143049 & 118.829 & 0.0 & $\\dots$ \\\\\n",
       "\t2 & 2270.7 & 1259.17 & 120.59 & 493.148 & 0.0 & 55.4528 & 5.31068 & 713.651 & 0.0 & $\\dots$ \\\\\n",
       "\t3 & 1243.71 & 398.371 & 12.8656 & 758.724 & 0.0 & 32.0309 & 1.03446 & 773.374 & 0.0 & $\\dots$ \\\\\n",
       "\t4 & 495.36 & 136.916 & 2.6696 & 301.582 & 0.0 & 27.6397 & 0.538921 & 351.013 & 0.0 & $\\dots$ \\\\\n",
       "\t5 & 298.71 & 93.2565 & 0.0 & 187.779 & 0.0 & 31.2198 & 0.0 & 187.779 & 0.0 & $\\dots$ \\\\\n",
       "\t6 & 115.47 & 36.8168 & 0.0 & 57.3447 & 0.0 & 31.8843 & 0.0 & 57.4489 & 0.0 & $\\dots$ \\\\\n",
       "\t7 & 2297.52 & 992.284 & 62.1743 & 677.594 & 0.0 & 43.1893 & 2.70615 & 1198.62 & 0.0 & $\\dots$ \\\\\n",
       "\t8 & 2060.73 & 1256.01 & 122.199 & 320.99 & 0.0 & 60.9496 & 5.9299 & 507.254 & 0.0 & $\\dots$ \\\\\n",
       "\t9 & 850.32 & 108.453 & 0.0 & 519.394 & 0.0 & 12.7544 & 0.0 & 662.734 & 0.0 & $\\dots$ \\\\\n",
       "\t10 & 1018.08 & 380.554 & 33.2119 & 573.634 & 0.0 & 37.3796 & 3.26221 & 598.446 & 168.798 & $\\dots$ \\\\\n",
       "\t11 & 599.31 & 222.672 & 81.569 & 185.85 & 0.0 & 37.1547 & 13.6105 & 280.381 & 98.8155 & $\\dots$ \\\\\n",
       "\t12 & 1535.31 & 869.0 & 36.3189 & 579.412 & 0.0 & 56.601 & 2.36557 & 623.891 & 488.736 & $\\dots$ \\\\\n",
       "\t13 & 1678.23 & 308.447 & 0.0 & 1229.2 & 0.0 & 18.3793 & 0.0 & 1325.01 & 16.8409 & $\\dots$ \\\\\n",
       "\t14 & 1998.36 & 295.689 & 0.0 & 1523.58 & 0.0 & 14.7966 & 0.0 & 1630.12 & 10.0662 & $\\dots$ \\\\\n",
       "\t15 & 292.23 & 139.59 & 20.118 & 115.73 & 0.0 & 47.7673 & 6.88429 & 132.522 & 132.522 & $\\dots$ \\\\\n",
       "\t16 & 1833.84 & 790.8 & 70.6236 & 894.672 & 0.0 & 43.1226 & 3.85113 & 933.104 & 933.062 & $\\dots$ \\\\\n",
       "\t17 & 2267.37 & 842.513 & 46.7572 & 1300.72 & 0.0 & 37.1582 & 2.06218 & 1363.9 & 1363.9 & $\\dots$ \\\\\n",
       "\t18 & 1610.64 & 760.456 & 22.022 & 774.658 & 0.0 & 47.2145 & 1.36728 & 828.162 & 828.162 & $\\dots$ \\\\\n",
       "\t19 & 2520.72 & 723.786 & 164.38 & 1317.09 & 0.0 & 28.7135 & 6.52116 & 1605.14 & 1602.62 & $\\dots$ \\\\\n",
       "\t20 & 939.87 & 137.082 & 16.3845 & 783.738 & 0.0 & 14.5852 & 1.74328 & 784.522 & 774.187 & $\\dots$ \\\\\n",
       "\t21 & 4790.7 & 512.118 & 0.0 & 3963.81 & 0.0 & 10.6898 & 0.0 & 4131.19 & 1094.66 & $\\dots$ \\\\\n",
       "\t22 & 221.13 & 62.9889 & 15.4776 & 105.95 & 0.0 & 28.485 & 6.9993 & 139.019 & 139.019 & $\\dots$ \\\\\n",
       "\t23 & 868.86 & 10.0912 & 0.0 & 768.955 & 0.0 & 1.16143 & 0.0 & 858.769 & 0.0 & $\\dots$ \\\\\n",
       "\t24 & 2747.97 & 1084.66 & 4.14182 & 1494.45 & 0.0 & 39.4714 & 0.150723 & 1629.09 & 1622.94 & $\\dots$ \\\\\n",
       "\t$\\dots$ & $\\dots$ & $\\dots$ & $\\dots$ & $\\dots$ & $\\dots$ & $\\dots$ & $\\dots$ & $\\dots$ & $\\dots$ &  \\\\\n",
       "\\end{tabular}\n"
      ],
      "text/plain": [
       "\u001b[1m1717×45 DataFrame\u001b[0m\n",
       "\u001b[1m  Row \u001b[0m│\u001b[1m area_ha \u001b[0m\u001b[1m pas       \u001b[0m\u001b[1m cul        \u001b[0m\u001b[1m bn       \u001b[0m\u001b[1m par     \u001b[0m\u001b[1m por_pas  \u001b[0m\u001b[1m por_cul  \u001b[0m ⋯\n",
       "\u001b[1m      \u001b[0m│\u001b[90m Float64 \u001b[0m\u001b[90m Float64   \u001b[0m\u001b[90m Float64    \u001b[0m\u001b[90m Float64  \u001b[0m\u001b[90m Float64 \u001b[0m\u001b[90m Float64  \u001b[0m\u001b[90m Float64  \u001b[0m ⋯\n",
       "──────┼─────────────────────────────────────────────────────────────────────────\n",
       "    1 │  170.19    48.2107    0.243454  109.713     0.0    28.3276    0.143049 ⋯\n",
       "    2 │ 2270.7   1259.17    120.59      493.148     0.0    55.4528    5.31068\n",
       "    3 │ 1243.71   398.371    12.8656    758.724     0.0    32.0309    1.03446\n",
       "    4 │  495.36   136.916     2.6696    301.582     0.0    27.6397    0.538921\n",
       "    5 │  298.71    93.2565    0.0       187.779     0.0    31.2198    0.0      ⋯\n",
       "    6 │  115.47    36.8168    0.0        57.3447    0.0    31.8843    0.0\n",
       "    7 │ 2297.52   992.284    62.1743    677.594     0.0    43.1893    2.70615\n",
       "    8 │ 2060.73  1256.01    122.199     320.99      0.0    60.9496    5.9299\n",
       "  ⋮   │    ⋮         ⋮          ⋮          ⋮         ⋮        ⋮          ⋮     ⋱\n",
       " 1711 │  796.95    11.517    14.3924    371.145   146.36    1.44514   1.80593  ⋯\n",
       " 1712 │  315.0      0.0       0.0         0.0     178.415   0.0       0.0\n",
       " 1713 │  274.77    50.0119    0.0         0.0       0.0    18.2014    0.0\n",
       " 1714 │  830.88    94.8691   12.9026      0.0       0.0    11.4179    1.55288\n",
       " 1715 │  609.48    62.328    11.5868      0.0       0.0    10.2264    1.90109  ⋯\n",
       " 1716 │  132.48    21.7407   10.6527      0.0       0.0    16.4106    8.04102\n",
       " 1717 │  105.75    27.6165    0.0         0.0       0.0    26.1149    0.0\n",
       "\u001b[36m                                                38 columns and 1702 rows omitted\u001b[0m"
      ]
     },
     "metadata": {},
     "output_type": "display_data"
    }
   ],
   "source": [
    "# Import geodatabase\n",
    "gdb_path = \"C:/Users/julio/Desktop/data/GDB_5PROV.gdb\"\n",
    "gdb = ArchGDAL.read(gdb_path) |>\n",
    "x -> DataFrame(ArchGDAL.getlayer(x, 3)) |>\n",
    "x -> select(x, Not([:Shape, :Id_micro, :Shape_Length, :Shape_Area]))"
   ]
  },
  {
   "cell_type": "code",
   "execution_count": 14,
   "metadata": {},
   "outputs": [
    {
     "name": "stdout",
     "output_type": "stream",
     "text": [
      "[\"area_ha\", \"pas\", \"cul\", \"bn\", \"par\", \"por_pas\", \"por_cul\", \"veg_rem\", \"veg_prot\", \"veg_psb\", \"por_veg_rem\", \"por_veg_prot\", \"por_veg_psb\", \"conv_0818\", \"veg_rem_08\", \"por_conv_0818\", \"cos_mean\", \"mos_alto\", \"por_mos_alto\", \"pend_100\", \"pas_pend_100\", \"cul_pend_100\", \"por_pas_pend_100\", \"por_cul_pend_100\", \"elev_mean\", \"slop_mean\", \"vpri_km\", \"vloc_km\", \"vsec_km\", \"vtot_km\", \"dens_via\", \"prio_rest\", \"apc\", \"deg0_lev1\", \"deg0_lev2\", \"deg0_lev3\", \"deg0_lev4\", \"deg1_lev1\", \"deg1_lev2\", \"deg1_lev3\", \"deg1_lev4\", \"veg_rem_prot_psb\", \"por_veg_rem_prot_psb\", \"veg_rem_arb_herb\", \"mos_agro\"]"
     ]
    }
   ],
   "source": [
    "print(names(gdb))"
   ]
  },
  {
   "cell_type": "code",
   "execution_count": 9,
   "metadata": {},
   "outputs": [
    {
     "data": {
      "text/html": [
       "<div class=\"data-frame\"><p>47 rows × 7 columns</p><table class=\"data-frame\"><thead><tr><th></th><th>variable</th><th>mean</th><th>min</th><th>median</th><th>max</th><th>nmissing</th><th>eltype</th></tr><tr><th></th><th title=\"Symbol\">Symbol</th><th title=\"Float64\">Float64</th><th title=\"Float64\">Float64</th><th title=\"Float64\">Float64</th><th title=\"Float64\">Float64</th><th title=\"Int64\">Int64</th><th title=\"DataType\">DataType</th></tr></thead><tbody><tr><th>1</th><td>area_ha</td><td>1375.99</td><td>96.48</td><td>1115.64</td><td>6097.59</td><td>0</td><td>Float64</td></tr><tr><th>2</th><td>pas</td><td>290.467</td><td>0.0</td><td>144.703</td><td>3376.14</td><td>0</td><td>Float64</td></tr><tr><th>3</th><td>cul</td><td>104.078</td><td>0.0</td><td>9.46751</td><td>3626.62</td><td>0</td><td>Float64</td></tr><tr><th>4</th><td>bn</td><td>217.291</td><td>0.0</td><td>0.534724</td><td>4194.8</td><td>0</td><td>Float64</td></tr><tr><th>5</th><td>par</td><td>281.556</td><td>0.0</td><td>0.0</td><td>4515.92</td><td>0</td><td>Float64</td></tr><tr><th>6</th><td>por_pas</td><td>20.904</td><td>0.0</td><td>14.4382</td><td>95.198</td><td>0</td><td>Float64</td></tr><tr><th>7</th><td>por_cul</td><td>7.95373</td><td>0.0</td><td>0.843875</td><td>98.3726</td><td>0</td><td>Float64</td></tr><tr><th>8</th><td>veg_rem</td><td>687.077</td><td>0.0</td><td>473.753</td><td>5033.26</td><td>0</td><td>Float64</td></tr><tr><th>9</th><td>veg_prot</td><td>197.242</td><td>0.0</td><td>0.0</td><td>4958.53</td><td>0</td><td>Float64</td></tr><tr><th>10</th><td>veg_psb</td><td>21.0372</td><td>0.0</td><td>0.0</td><td>1312.5</td><td>0</td><td>Float64</td></tr><tr><th>11</th><td>por_veg_rem</td><td>47.7073</td><td>0.0</td><td>44.6338</td><td>100.0</td><td>0</td><td>Float64</td></tr><tr><th>12</th><td>por_veg_prot</td><td>17.8696</td><td>0.0</td><td>0.0</td><td>100.0</td><td>0</td><td>Float64</td></tr><tr><th>13</th><td>por_veg_psb</td><td>2.03781</td><td>0.0</td><td>0.0</td><td>94.9761</td><td>0</td><td>Float64</td></tr><tr><th>14</th><td>conv_0818</td><td>75.4707</td><td>0.0</td><td>28.5045</td><td>759.633</td><td>0</td><td>Float64</td></tr><tr><th>15</th><td>veg_rem_08</td><td>603.399</td><td>0.0</td><td>355.597</td><td>5636.75</td><td>0</td><td>Float64</td></tr><tr><th>16</th><td>por_conv_0818</td><td>25.7018</td><td>0.0</td><td>14.282</td><td>100.0</td><td>0</td><td>Float64</td></tr><tr><th>17</th><td>cos_mean</td><td>65.2672</td><td>0.0</td><td>58.1429</td><td>205.0</td><td>0</td><td>Float64</td></tr><tr><th>18</th><td>mos_alto</td><td>832.646</td><td>0.0</td><td>673.19</td><td>5480.02</td><td>0</td><td>Float64</td></tr><tr><th>19</th><td>por_mos_alto</td><td>57.2394</td><td>0.0</td><td>68.2205</td><td>100.0</td><td>0</td><td>Float64</td></tr><tr><th>20</th><td>pend_100</td><td>54.739</td><td>0.0</td><td>0.0</td><td>2123.78</td><td>0</td><td>Float64</td></tr><tr><th>21</th><td>pas_pend_100</td><td>4.90784</td><td>0.0</td><td>0.0</td><td>1194.66</td><td>0</td><td>Float64</td></tr><tr><th>22</th><td>cul_pend_100</td><td>0.593388</td><td>0.0</td><td>0.0</td><td>112.359</td><td>0</td><td>Float64</td></tr><tr><th>23</th><td>por_pas_pend_100</td><td>0.332064</td><td>0.0</td><td>0.0</td><td>41.3638</td><td>0</td><td>Float64</td></tr><tr><th>24</th><td>por_cul_pend_100</td><td>0.0454361</td><td>0.0</td><td>0.0</td><td>10.3179</td><td>0</td><td>Float64</td></tr><tr><th>&vellip;</th><td>&vellip;</td><td>&vellip;</td><td>&vellip;</td><td>&vellip;</td><td>&vellip;</td><td>&vellip;</td><td>&vellip;</td></tr></tbody></table></div>"
      ],
      "text/latex": [
       "\\begin{tabular}{r|ccccccc}\n",
       "\t& variable & mean & min & median & max & nmissing & eltype\\\\\n",
       "\t\\hline\n",
       "\t& Symbol & Float64 & Float64 & Float64 & Float64 & Int64 & DataType\\\\\n",
       "\t\\hline\n",
       "\t1 & area\\_ha & 1375.99 & 96.48 & 1115.64 & 6097.59 & 0 & Float64 \\\\\n",
       "\t2 & pas & 290.467 & 0.0 & 144.703 & 3376.14 & 0 & Float64 \\\\\n",
       "\t3 & cul & 104.078 & 0.0 & 9.46751 & 3626.62 & 0 & Float64 \\\\\n",
       "\t4 & bn & 217.291 & 0.0 & 0.534724 & 4194.8 & 0 & Float64 \\\\\n",
       "\t5 & par & 281.556 & 0.0 & 0.0 & 4515.92 & 0 & Float64 \\\\\n",
       "\t6 & por\\_pas & 20.904 & 0.0 & 14.4382 & 95.198 & 0 & Float64 \\\\\n",
       "\t7 & por\\_cul & 7.95373 & 0.0 & 0.843875 & 98.3726 & 0 & Float64 \\\\\n",
       "\t8 & veg\\_rem & 687.077 & 0.0 & 473.753 & 5033.26 & 0 & Float64 \\\\\n",
       "\t9 & veg\\_prot & 197.242 & 0.0 & 0.0 & 4958.53 & 0 & Float64 \\\\\n",
       "\t10 & veg\\_psb & 21.0372 & 0.0 & 0.0 & 1312.5 & 0 & Float64 \\\\\n",
       "\t11 & por\\_veg\\_rem & 47.7073 & 0.0 & 44.6338 & 100.0 & 0 & Float64 \\\\\n",
       "\t12 & por\\_veg\\_prot & 17.8696 & 0.0 & 0.0 & 100.0 & 0 & Float64 \\\\\n",
       "\t13 & por\\_veg\\_psb & 2.03781 & 0.0 & 0.0 & 94.9761 & 0 & Float64 \\\\\n",
       "\t14 & conv\\_0818 & 75.4707 & 0.0 & 28.5045 & 759.633 & 0 & Float64 \\\\\n",
       "\t15 & veg\\_rem\\_08 & 603.399 & 0.0 & 355.597 & 5636.75 & 0 & Float64 \\\\\n",
       "\t16 & por\\_conv\\_0818 & 25.7018 & 0.0 & 14.282 & 100.0 & 0 & Float64 \\\\\n",
       "\t17 & cos\\_mean & 65.2672 & 0.0 & 58.1429 & 205.0 & 0 & Float64 \\\\\n",
       "\t18 & mos\\_alto & 832.646 & 0.0 & 673.19 & 5480.02 & 0 & Float64 \\\\\n",
       "\t19 & por\\_mos\\_alto & 57.2394 & 0.0 & 68.2205 & 100.0 & 0 & Float64 \\\\\n",
       "\t20 & pend\\_100 & 54.739 & 0.0 & 0.0 & 2123.78 & 0 & Float64 \\\\\n",
       "\t21 & pas\\_pend\\_100 & 4.90784 & 0.0 & 0.0 & 1194.66 & 0 & Float64 \\\\\n",
       "\t22 & cul\\_pend\\_100 & 0.593388 & 0.0 & 0.0 & 112.359 & 0 & Float64 \\\\\n",
       "\t23 & por\\_pas\\_pend\\_100 & 0.332064 & 0.0 & 0.0 & 41.3638 & 0 & Float64 \\\\\n",
       "\t24 & por\\_cul\\_pend\\_100 & 0.0454361 & 0.0 & 0.0 & 10.3179 & 0 & Float64 \\\\\n",
       "\t$\\dots$ & $\\dots$ & $\\dots$ & $\\dots$ & $\\dots$ & $\\dots$ & $\\dots$ & $\\dots$ \\\\\n",
       "\\end{tabular}\n"
      ],
      "text/plain": [
       "\u001b[1m47×7 DataFrame\u001b[0m\n",
       "\u001b[1m Row \u001b[0m│\u001b[1m variable             \u001b[0m\u001b[1m mean          \u001b[0m\u001b[1m min       \u001b[0m\u001b[1m median        \u001b[0m\u001b[1m max     \u001b[0m ⋯\n",
       "\u001b[1m     \u001b[0m│\u001b[90m Symbol               \u001b[0m\u001b[90m Float64       \u001b[0m\u001b[90m Float64   \u001b[0m\u001b[90m Float64       \u001b[0m\u001b[90m Float64 \u001b[0m ⋯\n",
       "─────┼──────────────────────────────────────────────────────────────────────────\n",
       "   1 │ area_ha                1375.99           96.48   1115.64        6097.59 ⋯\n",
       "   2 │ pas                     290.467           0.0     144.703       3376.14\n",
       "   3 │ cul                     104.078           0.0       9.46751     3626.62\n",
       "   4 │ bn                      217.291           0.0       0.534724    4194.8\n",
       "   5 │ par                     281.556           0.0       0.0         4515.92 ⋯\n",
       "   6 │ por_pas                  20.904           0.0      14.4382        95.19\n",
       "   7 │ por_cul                   7.95373         0.0       0.843875      98.37\n",
       "   8 │ veg_rem                 687.077           0.0     473.753       5033.26\n",
       "  ⋮  │          ⋮                  ⋮            ⋮            ⋮              ⋮  ⋱\n",
       "  41 │ deg1_lev4                 0.918808        0.0       0.0          143.39 ⋯\n",
       "  42 │ veg_rem_prot_psb        211.005           0.0       0.0         4958.53\n",
       "  43 │ por_veg_rem_prot_psb     19.201           0.0       0.0          100.0\n",
       "  44 │ veg_rem_arb_herb        188.23            0.0      97.3251      2317.72\n",
       "  45 │ mos_agro                174.06            0.0      13.3938      2606.38 ⋯\n",
       "  46 │ Shape_Length          24031.0          5520.0   22740.0        81780.0\n",
       "  47 │ Shape_Area                1.37599e7  964800.0       1.11564e7      6.09\n",
       "\u001b[36m                                                   3 columns and 32 rows omitted\u001b[0m"
      ]
     },
     "metadata": {},
     "output_type": "display_data"
    }
   ],
   "source": [
    "describe(gdb)"
   ]
  }
 ],
 "metadata": {
  "kernelspec": {
   "display_name": "Julia 1.7.0",
   "language": "julia",
   "name": "julia-1.7"
  },
  "language_info": {
   "file_extension": ".jl",
   "mimetype": "application/julia",
   "name": "julia",
   "version": "1.7.0"
  },
  "orig_nbformat": 4
 },
 "nbformat": 4,
 "nbformat_minor": 2
}
