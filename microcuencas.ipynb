{
 "cells": [
  {
   "cell_type": "code",
   "execution_count": 1,
   "metadata": {},
   "outputs": [],
   "source": [
    "using CairoMakie\n",
    "using ArchGDAL\n",
    "using DataFrames\n",
    "using MLJ"
   ]
  },
  {
   "cell_type": "code",
   "execution_count": 48,
   "metadata": {},
   "outputs": [],
   "source": [
    "# Import geodatabase\n",
    "gdb_path = \"C:/Users/julio/Desktop/data/GDB_5PROV.gdb\"\n",
    "gdb = ArchGDAL.read(gdb_path) |>\n",
    "x -> ArchGDAL.getlayer(x, 3)\n",
    "\n",
    "df = DataFrame(gdb) |>\n",
    "x -> select(x, Not([:Shape, :Id_micro, :Shape_Length, :Shape_Area]));"
   ]
  },
  {
   "cell_type": "code",
   "execution_count": 3,
   "metadata": {},
   "outputs": [
    {
     "name": "stdout",
     "output_type": "stream",
     "text": [
      "[\"area_ha\", \"pas\", \"cul\", \"bn\", \"par\", \"por_pas\", \"por_cul\", \"veg_rem\", \"veg_prot\", \"veg_psb\", \"por_veg_rem\", \"por_veg_prot\", \"por_veg_psb\", \"conv_0818\", \"veg_rem_08\", \"por_conv_0818\", \"cos_mean\", \"mos_alto\", \"por_mos_alto\", \"pend_100\", \"pas_pend_100\", \"cul_pend_100\", \"por_pas_pend_100\", \"por_cul_pend_100\", \"elev_mean\", \"slop_mean\", \"vpri_km\", \"vloc_km\", \"vsec_km\", \"vtot_km\", \"dens_via\", \"prio_rest\", \"apc\", \"deg0_lev1\", \"deg0_lev2\", \"deg0_lev3\", \"deg0_lev4\", \"deg1_lev1\", \"deg1_lev2\", \"deg1_lev3\", \"deg1_lev4\", \"veg_rem_prot_psb\", \"por_veg_rem_prot_psb\", \"veg_rem_arb_herb\", \"mos_agro\"]"
     ]
    }
   ],
   "source": [
    "print(names(df))"
   ]
  },
  {
   "cell_type": "code",
   "execution_count": 9,
   "metadata": {},
   "outputs": [
    {
     "data": {
      "text/html": [
       "<div class=\"data-frame\"><p>45 rows × 7 columns</p><table class=\"data-frame\"><thead><tr><th></th><th>variable</th><th>mean</th><th>min</th><th>median</th><th>max</th><th>nmissing</th><th>eltype</th></tr><tr><th></th><th title=\"Symbol\">Symbol</th><th title=\"Float64\">Float64</th><th title=\"Float64\">Float64</th><th title=\"Float64\">Float64</th><th title=\"Float64\">Float64</th><th title=\"Int64\">Int64</th><th title=\"DataType\">DataType</th></tr></thead><tbody><tr><th>1</th><td>area_ha</td><td>1375.99</td><td>96.48</td><td>1115.64</td><td>6097.59</td><td>0</td><td>Float64</td></tr><tr><th>2</th><td>pas</td><td>290.467</td><td>0.0</td><td>144.703</td><td>3376.14</td><td>0</td><td>Float64</td></tr><tr><th>3</th><td>cul</td><td>104.078</td><td>0.0</td><td>9.46751</td><td>3626.62</td><td>0</td><td>Float64</td></tr><tr><th>4</th><td>bn</td><td>217.291</td><td>0.0</td><td>0.534724</td><td>4194.8</td><td>0</td><td>Float64</td></tr><tr><th>5</th><td>par</td><td>281.556</td><td>0.0</td><td>0.0</td><td>4515.92</td><td>0</td><td>Float64</td></tr><tr><th>6</th><td>por_pas</td><td>20.904</td><td>0.0</td><td>14.4382</td><td>95.198</td><td>0</td><td>Float64</td></tr><tr><th>7</th><td>por_cul</td><td>7.95373</td><td>0.0</td><td>0.843875</td><td>98.3726</td><td>0</td><td>Float64</td></tr><tr><th>8</th><td>veg_rem</td><td>687.077</td><td>0.0</td><td>473.753</td><td>5033.26</td><td>0</td><td>Float64</td></tr><tr><th>9</th><td>veg_prot</td><td>197.242</td><td>0.0</td><td>0.0</td><td>4958.53</td><td>0</td><td>Float64</td></tr><tr><th>10</th><td>veg_psb</td><td>21.0372</td><td>0.0</td><td>0.0</td><td>1312.5</td><td>0</td><td>Float64</td></tr><tr><th>11</th><td>por_veg_rem</td><td>47.7073</td><td>0.0</td><td>44.6338</td><td>100.0</td><td>0</td><td>Float64</td></tr><tr><th>12</th><td>por_veg_prot</td><td>17.8696</td><td>0.0</td><td>0.0</td><td>100.0</td><td>0</td><td>Float64</td></tr><tr><th>13</th><td>por_veg_psb</td><td>2.03781</td><td>0.0</td><td>0.0</td><td>94.9761</td><td>0</td><td>Float64</td></tr><tr><th>14</th><td>conv_0818</td><td>75.4707</td><td>0.0</td><td>28.5045</td><td>759.633</td><td>0</td><td>Float64</td></tr><tr><th>15</th><td>veg_rem_08</td><td>603.399</td><td>0.0</td><td>355.597</td><td>5636.75</td><td>0</td><td>Float64</td></tr><tr><th>16</th><td>por_conv_0818</td><td>25.7018</td><td>0.0</td><td>14.282</td><td>100.0</td><td>0</td><td>Float64</td></tr><tr><th>17</th><td>cos_mean</td><td>65.2672</td><td>0.0</td><td>58.1429</td><td>205.0</td><td>0</td><td>Float64</td></tr><tr><th>18</th><td>mos_alto</td><td>832.646</td><td>0.0</td><td>673.19</td><td>5480.02</td><td>0</td><td>Float64</td></tr><tr><th>19</th><td>por_mos_alto</td><td>57.2394</td><td>0.0</td><td>68.2205</td><td>100.0</td><td>0</td><td>Float64</td></tr><tr><th>20</th><td>pend_100</td><td>54.739</td><td>0.0</td><td>0.0</td><td>2123.78</td><td>0</td><td>Float64</td></tr><tr><th>21</th><td>pas_pend_100</td><td>4.90784</td><td>0.0</td><td>0.0</td><td>1194.66</td><td>0</td><td>Float64</td></tr><tr><th>22</th><td>cul_pend_100</td><td>0.593388</td><td>0.0</td><td>0.0</td><td>112.359</td><td>0</td><td>Float64</td></tr><tr><th>23</th><td>por_pas_pend_100</td><td>0.332064</td><td>0.0</td><td>0.0</td><td>41.3638</td><td>0</td><td>Float64</td></tr><tr><th>24</th><td>por_cul_pend_100</td><td>0.0454361</td><td>0.0</td><td>0.0</td><td>10.3179</td><td>0</td><td>Float64</td></tr><tr><th>&vellip;</th><td>&vellip;</td><td>&vellip;</td><td>&vellip;</td><td>&vellip;</td><td>&vellip;</td><td>&vellip;</td><td>&vellip;</td></tr></tbody></table></div>"
      ],
      "text/latex": [
       "\\begin{tabular}{r|ccccccc}\n",
       "\t& variable & mean & min & median & max & nmissing & eltype\\\\\n",
       "\t\\hline\n",
       "\t& Symbol & Float64 & Float64 & Float64 & Float64 & Int64 & DataType\\\\\n",
       "\t\\hline\n",
       "\t1 & area\\_ha & 1375.99 & 96.48 & 1115.64 & 6097.59 & 0 & Float64 \\\\\n",
       "\t2 & pas & 290.467 & 0.0 & 144.703 & 3376.14 & 0 & Float64 \\\\\n",
       "\t3 & cul & 104.078 & 0.0 & 9.46751 & 3626.62 & 0 & Float64 \\\\\n",
       "\t4 & bn & 217.291 & 0.0 & 0.534724 & 4194.8 & 0 & Float64 \\\\\n",
       "\t5 & par & 281.556 & 0.0 & 0.0 & 4515.92 & 0 & Float64 \\\\\n",
       "\t6 & por\\_pas & 20.904 & 0.0 & 14.4382 & 95.198 & 0 & Float64 \\\\\n",
       "\t7 & por\\_cul & 7.95373 & 0.0 & 0.843875 & 98.3726 & 0 & Float64 \\\\\n",
       "\t8 & veg\\_rem & 687.077 & 0.0 & 473.753 & 5033.26 & 0 & Float64 \\\\\n",
       "\t9 & veg\\_prot & 197.242 & 0.0 & 0.0 & 4958.53 & 0 & Float64 \\\\\n",
       "\t10 & veg\\_psb & 21.0372 & 0.0 & 0.0 & 1312.5 & 0 & Float64 \\\\\n",
       "\t11 & por\\_veg\\_rem & 47.7073 & 0.0 & 44.6338 & 100.0 & 0 & Float64 \\\\\n",
       "\t12 & por\\_veg\\_prot & 17.8696 & 0.0 & 0.0 & 100.0 & 0 & Float64 \\\\\n",
       "\t13 & por\\_veg\\_psb & 2.03781 & 0.0 & 0.0 & 94.9761 & 0 & Float64 \\\\\n",
       "\t14 & conv\\_0818 & 75.4707 & 0.0 & 28.5045 & 759.633 & 0 & Float64 \\\\\n",
       "\t15 & veg\\_rem\\_08 & 603.399 & 0.0 & 355.597 & 5636.75 & 0 & Float64 \\\\\n",
       "\t16 & por\\_conv\\_0818 & 25.7018 & 0.0 & 14.282 & 100.0 & 0 & Float64 \\\\\n",
       "\t17 & cos\\_mean & 65.2672 & 0.0 & 58.1429 & 205.0 & 0 & Float64 \\\\\n",
       "\t18 & mos\\_alto & 832.646 & 0.0 & 673.19 & 5480.02 & 0 & Float64 \\\\\n",
       "\t19 & por\\_mos\\_alto & 57.2394 & 0.0 & 68.2205 & 100.0 & 0 & Float64 \\\\\n",
       "\t20 & pend\\_100 & 54.739 & 0.0 & 0.0 & 2123.78 & 0 & Float64 \\\\\n",
       "\t21 & pas\\_pend\\_100 & 4.90784 & 0.0 & 0.0 & 1194.66 & 0 & Float64 \\\\\n",
       "\t22 & cul\\_pend\\_100 & 0.593388 & 0.0 & 0.0 & 112.359 & 0 & Float64 \\\\\n",
       "\t23 & por\\_pas\\_pend\\_100 & 0.332064 & 0.0 & 0.0 & 41.3638 & 0 & Float64 \\\\\n",
       "\t24 & por\\_cul\\_pend\\_100 & 0.0454361 & 0.0 & 0.0 & 10.3179 & 0 & Float64 \\\\\n",
       "\t$\\dots$ & $\\dots$ & $\\dots$ & $\\dots$ & $\\dots$ & $\\dots$ & $\\dots$ & $\\dots$ \\\\\n",
       "\\end{tabular}\n"
      ],
      "text/plain": [
       "\u001b[1m45×7 DataFrame\u001b[0m\n",
       "\u001b[1m Row \u001b[0m│\u001b[1m variable             \u001b[0m\u001b[1m mean        \u001b[0m\u001b[1m min     \u001b[0m\u001b[1m median      \u001b[0m\u001b[1m max       \u001b[0m\u001b[1m nmi\u001b[0m ⋯\n",
       "\u001b[1m     \u001b[0m│\u001b[90m Symbol               \u001b[0m\u001b[90m Float64     \u001b[0m\u001b[90m Float64 \u001b[0m\u001b[90m Float64     \u001b[0m\u001b[90m Float64   \u001b[0m\u001b[90m Int\u001b[0m ⋯\n",
       "─────┼──────────────────────────────────────────────────────────────────────────\n",
       "   1 │ area_ha               1375.99        96.48  1115.64      6097.59        ⋯\n",
       "   2 │ pas                    290.467        0.0    144.703     3376.14\n",
       "   3 │ cul                    104.078        0.0      9.46751   3626.62\n",
       "   4 │ bn                     217.291        0.0      0.534724  4194.8\n",
       "   5 │ par                    281.556        0.0      0.0       4515.92        ⋯\n",
       "   6 │ por_pas                 20.904        0.0     14.4382      95.198\n",
       "   7 │ por_cul                  7.95373      0.0      0.843875    98.3726\n",
       "   8 │ veg_rem                687.077        0.0    473.753     5033.26\n",
       "  ⋮  │          ⋮                 ⋮          ⋮          ⋮           ⋮          ⋱\n",
       "  39 │ deg1_lev2              479.731        0.0    206.352     5487.93        ⋯\n",
       "  40 │ deg1_lev3               17.5499       0.0      0.0       1457.95\n",
       "  41 │ deg1_lev4                0.918808     0.0      0.0        143.399\n",
       "  42 │ veg_rem_prot_psb       211.005        0.0      0.0       4958.53\n",
       "  43 │ por_veg_rem_prot_psb    19.201        0.0      0.0        100.0         ⋯\n",
       "  44 │ veg_rem_arb_herb       188.23         0.0     97.3251    2317.72\n",
       "  45 │ mos_agro               174.06         0.0     13.3938    2606.38\n",
       "\u001b[36m                                                   2 columns and 30 rows omitted\u001b[0m"
      ]
     },
     "metadata": {},
     "output_type": "display_data"
    }
   ],
   "source": [
    "describe(df)"
   ]
  },
  {
   "cell_type": "code",
   "execution_count": 5,
   "metadata": {},
   "outputs": [
    {
     "name": "stdout",
     "output_type": "stream",
     "text": [
      "[(\"ABODDetector\", \"OutlierDetectionNeighbors\"), (\"AEDetector\", \"OutlierDetectionNetworks\"), (\"COFDetector\", \"OutlierDetectionNeighbors\"), (\"ContinuousEncoder\", \"MLJModels\"), (\"DNNDetector\", \"OutlierDetectionNeighbors\"), (\"FactorAnalysis\", \"MultivariateStats\"), (\"FeatureSelector\", \"MLJModels\"), (\"FillImputer\", \"MLJModels\"), (\"GMMClusterer\", \"BetaML\"), (\"ICA\", \"MultivariateStats\"), (\"KMeans\", \"BetaML\"), (\"KMeans\", \"Clustering\"), (\"KMeans\", \"ParallelKMeans\"), (\"KMedoids\", \"BetaML\"), (\"KMedoids\", \"Clustering\"), (\"KNNDetector\", \"OutlierDetectionNeighbors\"), (\"KernelPCA\", \"MultivariateStats\"), (\"LOFDetector\", \"OutlierDetectionNeighbors\"), (\"MissingImputator\", \"BetaML\"), (\"OneHotEncoder\", \"MLJModels\"), (\"PCA\", \"MultivariateStats\"), (\"PPCA\", \"MultivariateStats\"), (\"Standardizer\", \"MLJModels\"), (\"TSVDTransformer\", \"TSVD\")]\n"
     ]
    }
   ],
   "source": [
    "println([(m.name, m.package_name) for m in models(matching(df)) if m.is_pure_julia == true && m.is_supervised == false])"
   ]
  },
  {
   "cell_type": "code",
   "execution_count": 67,
   "metadata": {},
   "outputs": [
    {
     "name": "stderr",
     "output_type": "stream",
     "text": [
      "┌ Info: Training Machine{Pipeline296,…}.\n",
      "└ @ MLJBase C:\\Users\\julio\\.julia\\packages\\MLJBase\\QXObv\\src\\machines.jl:403\n",
      "┌ Info: Training Machine{Standardizer,…}.\n",
      "└ @ MLJBase C:\\Users\\julio\\.julia\\packages\\MLJBase\\QXObv\\src\\machines.jl:403\n",
      "┌ Info: Training Machine{KMeans,…}.\n",
      "└ @ MLJBase C:\\Users\\julio\\.julia\\packages\\MLJBase\\QXObv\\src\\machines.jl:403\n"
     ]
    },
    {
     "data": {
      "text/plain": [
       "Machine{Pipeline296,…} trained 1 time; caches data\n",
       "  args: \n",
       "    1:\tSource @342 ⏎ `Table{AbstractVector{Continuous}}`\n"
      ]
     },
     "metadata": {},
     "output_type": "display_data"
    }
   ],
   "source": [
    "# Modeling section\n",
    "model = @load KMeans pkg=Clustering verbosity=0\n",
    "pipe = @pipeline Standardizer model(k=5)\n",
    "m = machine(pipe, df) |> fit!"
   ]
  },
  {
   "cell_type": "code",
   "execution_count": 69,
   "metadata": {},
   "outputs": [
    {
     "data": {
      "text/plain": [
       "(k_means = (centers = [-0.14883680894301626 -0.30866437341483666 … 1.6432989020830486 0.3152005248362385; -0.5030719195081619 0.2633592866120798 … 0.4056542875853352 -0.13006752560488663; … ; -0.17611437412346817 0.018882725160367913 … 0.4896450506423945 -0.0019466817804760495; -0.39851144028580515 -0.11488065463873334 … -0.38788200069580026 1.2497714349661853],),\n",
       " standardizer = Dict(:por_veg_prot => (17.86964320727548, 35.646363495224506), :veg_psb => (21.037231719401632, 93.44099803057158), :deg1_lev3 => (17.54986227730666, 88.15002550793876), :vloc_km => (5.822091740351258, 11.135251748777916), :veg_prot => (197.24198825050524, 504.85404735040856), :pas => (290.4672064598092, 379.4479655259307), :mos_agro => (174.06021984582586, 322.35948070599795), :deg1_lev1 => (95.45478647624417, 302.09523808429117), :cos_mean => (65.26721783308089, 35.099615521245845), :vsec_km => (2.3799674894431266, 4.649866633111325)…),\n",
       " machines = Machine[Machine{Standardizer,…}, Machine{KMeans,…}],\n",
       " fitted_params_given_machine = OrderedCollections.LittleDict{Any, Any, Vector{Any}, Vector{Any}}(Machine{Standardizer,…} => Dict(:por_veg_prot => (17.86964320727548, 35.646363495224506), :veg_psb => (21.037231719401632, 93.44099803057158), :deg1_lev3 => (17.54986227730666, 88.15002550793876), :vloc_km => (5.822091740351258, 11.135251748777916), :veg_prot => (197.24198825050524, 504.85404735040856), :pas => (290.4672064598092, 379.4479655259307), :mos_agro => (174.06021984582586, 322.35948070599795), :deg1_lev1 => (95.45478647624417, 302.09523808429117), :cos_mean => (65.26721783308089, 35.099615521245845), :vsec_km => (2.3799674894431266, 4.649866633111325)…), Machine{KMeans,…} => (centers = [-0.14883680894301626 -0.30866437341483666 … 1.6432989020830486 0.3152005248362385; -0.5030719195081619 0.2633592866120798 … 0.4056542875853352 -0.13006752560488663; … ; -0.17611437412346817 0.018882725160367913 … 0.4896450506423945 -0.0019466817804760495; -0.39851144028580515 -0.11488065463873334 … -0.38788200069580026 1.2497714349661853],)),)"
      ]
     },
     "metadata": {},
     "output_type": "display_data"
    }
   ],
   "source": [
    "fp = fitted_params(m)"
   ]
  },
  {
   "cell_type": "code",
   "execution_count": 70,
   "metadata": {},
   "outputs": [
    {
     "data": {
      "text/plain": [
       "(k_means = (assignments = [2, 2, 2, 2, 2, 2, 2, 2, 2, 2  …  2, 5, 2, 1, 1, 2, 5, 5, 2, 2],\n",
       "            cluster_labels = CategoricalArrays.CategoricalValue{Int64, UInt32}[1, 2, 3, 4, 5],),\n",
       " standardizer = (features_fit = [:por_veg_prot, :veg_psb, :deg1_lev3, :vloc_km, :veg_prot, :pas, :mos_agro, :deg1_lev1, :cos_mean, :vsec_km  …  :elev_mean, :dens_via, :deg0_lev1, :por_cul_pend_100, :deg1_lev2, :deg0_lev3, :pend_100, :por_veg_rem_prot_psb, :deg0_lev4, :deg0_lev2],),\n",
       " machines = Machine[Machine{Standardizer,…}, Machine{KMeans,…}],\n",
       " report_given_machine = OrderedCollections.LittleDict{Any, Any, Vector{Any}, Vector{Any}}(Machine{Standardizer,…} => (features_fit = [:por_veg_prot, :veg_psb, :deg1_lev3, :vloc_km, :veg_prot, :pas, :mos_agro, :deg1_lev1, :cos_mean, :vsec_km  …  :elev_mean, :dens_via, :deg0_lev1, :por_cul_pend_100, :deg1_lev2, :deg0_lev3, :pend_100, :por_veg_rem_prot_psb, :deg0_lev4, :deg0_lev2],), Machine{KMeans,…} => (assignments = [2, 2, 2, 2, 2, 2, 2, 2, 2, 2  …  2, 5, 2, 1, 1, 2, 5, 5, 2, 2], cluster_labels = CategoricalArrays.CategoricalValue{Int64, UInt32}[1, 2, 3, 4, 5])),)"
      ]
     },
     "metadata": {},
     "output_type": "display_data"
    }
   ],
   "source": [
    "r = report(m)"
   ]
  },
  {
   "cell_type": "code",
   "execution_count": 71,
   "metadata": {},
   "outputs": [
    {
     "data": {
      "image/png": "[encoded data removed]",
      "text/plain": [
       "Scene (800px, 600px):\n",
       "  18 Plots:\n",
       "    ├ Combined{Makie.poly, Tuple{Vector{Vector{Point{2, Float32}}}}}\n",
       "    ├ LineSegments{Tuple{Vector{Point{2, Float32}}}}\n",
       "    ├ LineSegments{Tuple{Vector{Point{2, Float32}}}}\n",
       "    ├ LineSegments{Tuple{Vector{Point{2, Float32}}}}\n",
       "    ├ LineSegments{Tuple{Vector{Point{2, Float32}}}}\n",
       "    ├ LineSegments{Tuple{Vector{Point{2, Float32}}}}\n",
       "    ├ LineSegments{Tuple{Vector{Point{2, Float32}}}}\n",
       "    ├ MakieCore.Text{Tuple{String}}\n",
       "    ├ Lines{Tuple{Vector{Point{2, Float32}}}}\n",
       "    ├ MakieCore.Text{Tuple{Vector{Tuple{AbstractString, Point{2, Float32}}}}}\n",
       "    ├ LineSegments{Tuple{Vector{Point{2, Float32}}}}\n",
       "    ├ LineSegments{Tuple{Vector{Point{2, Float32}}}}\n",
       "    ├ MakieCore.Text{Tuple{String}}\n",
       "    ├ Lines{Tuple{Vector{Point{2, Float32}}}}\n",
       "    ├ MakieCore.Text{Tuple{Vector{Tuple{AbstractString, Point{2, Float32}}}}}\n",
       "    ├ Lines{Tuple{Vector{Point{2, Float32}}}}\n",
       "    ├ Lines{Tuple{Vector{Point{2, Float32}}}}\n",
       "    └ MakieCore.Text{Tuple{String}}\n",
       "  1 Child Scene:\n",
       "    └ Scene (729px, 541px)"
      ]
     },
     "metadata": {},
     "output_type": "display_data"
    }
   ],
   "source": [
    "results = collect(r.k_means[1])\n",
    "hist(results)"
   ]
  }
 ],
 "metadata": {
  "kernelspec": {
   "display_name": "Julia 1.7.0",
   "language": "julia",
   "name": "julia-1.7"
  },
  "language_info": {
   "file_extension": ".jl",
   "mimetype": "application/julia",
   "name": "julia",
   "version": "1.7.0"
  },
  "orig_nbformat": 4
 },
 "nbformat": 4,
 "nbformat_minor": 2
}
