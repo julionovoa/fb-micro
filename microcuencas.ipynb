{
 "cells": [
  {
   "cell_type": "code",
   "execution_count": 10,
   "metadata": {},
   "outputs": [],
   "source": [
    "using CairoMakie\n",
    "using CSV\n",
    "using ArchGDAL\n",
    "using DataFrames\n",
    "using MLJ\n",
    "using Statistics"
   ]
  },
  {
   "cell_type": "code",
   "execution_count": 11,
   "metadata": {},
   "outputs": [],
   "source": [
    "# Import geodatabase\n",
    "gdb_path = \"C:/Users/julio/Desktop/data/GDB_5PROV.gdb\"\n",
    "gdb = ArchGDAL.read(gdb_path) |>\n",
    "x -> ArchGDAL.getlayer(x, 3)\n",
    "\n",
    "df = DataFrame(gdb) |>\n",
    "x -> select(x, Not([:Shape, :Id_micro, :Shape_Length, :Shape_Area]));"
   ]
  },
  {
   "cell_type": "code",
   "execution_count": 12,
   "metadata": {},
   "outputs": [
    {
     "data": {
      "text/html": [
       "<div class=\"data-frame\"><p>10 rows × 7 columns</p><table class=\"data-frame\"><thead><tr><th></th><th>variable</th><th>mean</th><th>min</th><th>median</th><th>max</th><th>nmissing</th><th>eltype</th></tr><tr><th></th><th title=\"Symbol\">Symbol</th><th title=\"Float64\">Float64</th><th title=\"Float64\">Float64</th><th title=\"Float64\">Float64</th><th title=\"Float64\">Float64</th><th title=\"Int64\">Int64</th><th title=\"DataType\">DataType</th></tr></thead><tbody><tr><th>1</th><td>area_ha</td><td>1375.99</td><td>96.48</td><td>1115.64</td><td>6097.59</td><td>0</td><td>Float64</td></tr><tr><th>2</th><td>pas</td><td>290.467</td><td>0.0</td><td>144.703</td><td>3376.14</td><td>0</td><td>Float64</td></tr><tr><th>3</th><td>cul</td><td>104.078</td><td>0.0</td><td>9.46751</td><td>3626.62</td><td>0</td><td>Float64</td></tr><tr><th>4</th><td>bn</td><td>217.291</td><td>0.0</td><td>0.534724</td><td>4194.8</td><td>0</td><td>Float64</td></tr><tr><th>5</th><td>par</td><td>281.556</td><td>0.0</td><td>0.0</td><td>4515.92</td><td>0</td><td>Float64</td></tr><tr><th>6</th><td>por_pas</td><td>20.904</td><td>0.0</td><td>14.4382</td><td>95.198</td><td>0</td><td>Float64</td></tr><tr><th>7</th><td>por_cul</td><td>7.95373</td><td>0.0</td><td>0.843875</td><td>98.3726</td><td>0</td><td>Float64</td></tr><tr><th>8</th><td>veg_rem</td><td>687.077</td><td>0.0</td><td>473.753</td><td>5033.26</td><td>0</td><td>Float64</td></tr><tr><th>9</th><td>veg_prot</td><td>197.242</td><td>0.0</td><td>0.0</td><td>4958.53</td><td>0</td><td>Float64</td></tr><tr><th>10</th><td>veg_psb</td><td>21.0372</td><td>0.0</td><td>0.0</td><td>1312.5</td><td>0</td><td>Float64</td></tr></tbody></table></div>"
      ],
      "text/latex": [
       "\\begin{tabular}{r|ccccccc}\n",
       "\t& variable & mean & min & median & max & nmissing & eltype\\\\\n",
       "\t\\hline\n",
       "\t& Symbol & Float64 & Float64 & Float64 & Float64 & Int64 & DataType\\\\\n",
       "\t\\hline\n",
       "\t1 & area\\_ha & 1375.99 & 96.48 & 1115.64 & 6097.59 & 0 & Float64 \\\\\n",
       "\t2 & pas & 290.467 & 0.0 & 144.703 & 3376.14 & 0 & Float64 \\\\\n",
       "\t3 & cul & 104.078 & 0.0 & 9.46751 & 3626.62 & 0 & Float64 \\\\\n",
       "\t4 & bn & 217.291 & 0.0 & 0.534724 & 4194.8 & 0 & Float64 \\\\\n",
       "\t5 & par & 281.556 & 0.0 & 0.0 & 4515.92 & 0 & Float64 \\\\\n",
       "\t6 & por\\_pas & 20.904 & 0.0 & 14.4382 & 95.198 & 0 & Float64 \\\\\n",
       "\t7 & por\\_cul & 7.95373 & 0.0 & 0.843875 & 98.3726 & 0 & Float64 \\\\\n",
       "\t8 & veg\\_rem & 687.077 & 0.0 & 473.753 & 5033.26 & 0 & Float64 \\\\\n",
       "\t9 & veg\\_prot & 197.242 & 0.0 & 0.0 & 4958.53 & 0 & Float64 \\\\\n",
       "\t10 & veg\\_psb & 21.0372 & 0.0 & 0.0 & 1312.5 & 0 & Float64 \\\\\n",
       "\\end{tabular}\n"
      ],
      "text/plain": [
       "\u001b[1m10×7 DataFrame\u001b[0m\n",
       "\u001b[1m Row \u001b[0m│\u001b[1m variable \u001b[0m\u001b[1m mean       \u001b[0m\u001b[1m min     \u001b[0m\u001b[1m median      \u001b[0m\u001b[1m max       \u001b[0m\u001b[1m nmissing \u001b[0m\u001b[1m eltype\u001b[0m ⋯\n",
       "\u001b[1m     \u001b[0m│\u001b[90m Symbol   \u001b[0m\u001b[90m Float64    \u001b[0m\u001b[90m Float64 \u001b[0m\u001b[90m Float64     \u001b[0m\u001b[90m Float64   \u001b[0m\u001b[90m Int64    \u001b[0m\u001b[90m DataTy\u001b[0m ⋯\n",
       "─────┼──────────────────────────────────────────────────────────────────────────\n",
       "   1 │ area_ha   1375.99       96.48  1115.64      6097.59           0  Float6 ⋯\n",
       "   2 │ pas        290.467       0.0    144.703     3376.14           0  Float6\n",
       "   3 │ cul        104.078       0.0      9.46751   3626.62           0  Float6\n",
       "   4 │ bn         217.291       0.0      0.534724  4194.8            0  Float6\n",
       "   5 │ par        281.556       0.0      0.0       4515.92           0  Float6 ⋯\n",
       "   6 │ por_pas     20.904       0.0     14.4382      95.198          0  Float6\n",
       "   7 │ por_cul      7.95373     0.0      0.843875    98.3726         0  Float6\n",
       "   8 │ veg_rem    687.077       0.0    473.753     5033.26           0  Float6\n",
       "   9 │ veg_prot   197.242       0.0      0.0       4958.53           0  Float6 ⋯\n",
       "  10 │ veg_psb     21.0372      0.0      0.0       1312.5            0  Float6\n",
       "\u001b[36m                                                                1 column omitted\u001b[0m"
      ]
     },
     "metadata": {},
     "output_type": "display_data"
    }
   ],
   "source": [
    "describe(df) |>\n",
    "x -> sort(x, :nmissing, rev=true) |>\n",
    "x -> first(x, 10)"
   ]
  },
  {
   "cell_type": "code",
   "execution_count": 13,
   "metadata": {},
   "outputs": [
    {
     "data": {
      "image/png": "[encoded data removed]",
      "text/plain": [
       "Scene (800px, 600px):\n",
       "  18 Plots:\n",
       "    ├ Combined{Makie.poly, Tuple{Vector{Vector{Point{2, Float32}}}}}\n",
       "    ├ LineSegments{Tuple{Vector{Point{2, Float32}}}}\n",
       "    ├ LineSegments{Tuple{Vector{Point{2, Float32}}}}\n",
       "    ├ LineSegments{Tuple{Vector{Point{2, Float32}}}}\n",
       "    ├ LineSegments{Tuple{Vector{Point{2, Float32}}}}\n",
       "    ├ LineSegments{Tuple{Vector{Point{2, Float32}}}}\n",
       "    ├ LineSegments{Tuple{Vector{Point{2, Float32}}}}\n",
       "    ├ MakieCore.Text{Tuple{String}}\n",
       "    ├ Lines{Tuple{Vector{Point{2, Float32}}}}\n",
       "    ├ MakieCore.Text{Tuple{Vector{Tuple{AbstractString, Point{2, Float32}}}}}\n",
       "    ├ LineSegments{Tuple{Vector{Point{2, Float32}}}}\n",
       "    ├ LineSegments{Tuple{Vector{Point{2, Float32}}}}\n",
       "    ├ MakieCore.Text{Tuple{String}}\n",
       "    ├ Lines{Tuple{Vector{Point{2, Float32}}}}\n",
       "    ├ MakieCore.Text{Tuple{Vector{Tuple{AbstractString, Point{2, Float32}}}}}\n",
       "    ├ Lines{Tuple{Vector{Point{2, Float32}}}}\n",
       "    ├ Lines{Tuple{Vector{Point{2, Float32}}}}\n",
       "    └ MakieCore.Text{Tuple{String}}\n",
       "  1 Child Scene:\n",
       "    └ Scene (739px, 541px)"
      ]
     },
     "metadata": {},
     "output_type": "display_data"
    }
   ],
   "source": [
    "heatmap(cor(Matrix(df)))"
   ]
  },
  {
   "cell_type": "code",
   "execution_count": 14,
   "metadata": {},
   "outputs": [
    {
     "name": "stdout",
     "output_type": "stream",
     "text": [
      "[(\"ABODDetector\", \"OutlierDetectionNeighbors\"), (\"AEDetector\", \"OutlierDetectionNetworks\"), (\"COFDetector\", \"OutlierDetectionNeighbors\"), (\"ContinuousEncoder\", \"MLJModels\"), (\"DNNDetector\", \"OutlierDetectionNeighbors\"), (\"FactorAnalysis\", \"MultivariateStats\"), (\"FeatureSelector\", \"MLJModels\"), (\"FillImputer\", \"MLJModels\"), (\"GMMClusterer\", \"BetaML\"), (\"ICA\", \"MultivariateStats\"), (\"KMeans\", \"BetaML\"), (\"KMeans\", \"Clustering\"), (\"KMeans\", \"ParallelKMeans\"), (\"KMedoids\", \"BetaML\"), (\"KMedoids\", \"Clustering\"), (\"KNNDetector\", \"OutlierDetectionNeighbors\"), (\"KernelPCA\", \"MultivariateStats\"), (\"LOFDetector\", \"OutlierDetectionNeighbors\"), (\"MissingImputator\", \"BetaML\"), (\"OneHotEncoder\", \"MLJModels\"), (\"PCA\", \"MultivariateStats\"), (\"PPCA\", \"MultivariateStats\"), (\"Standardizer\", \"MLJModels\"), (\"TSVDTransformer\", \"TSVD\")]\n"
     ]
    }
   ],
   "source": [
    "# Get list of models\n",
    "println([(m.name, m.package_name) for m in models(matching(df)) if m.is_pure_julia == true && m.is_supervised == false])"
   ]
  },
  {
   "cell_type": "code",
   "execution_count": 15,
   "metadata": {},
   "outputs": [
    {
     "name": "stderr",
     "output_type": "stream",
     "text": [
      "┌ Info: Training Machine{Pipeline277,…}.\n",
      "└ @ MLJBase C:\\Users\\julio\\.julia\\packages\\MLJBase\\QXObv\\src\\machines.jl:403\n",
      "┌ Info: Training Machine{Standardizer,…}.\n",
      "└ @ MLJBase C:\\Users\\julio\\.julia\\packages\\MLJBase\\QXObv\\src\\machines.jl:403\n",
      "┌ Info: Training Machine{KMeans,…}.\n",
      "└ @ MLJBase C:\\Users\\julio\\.julia\\packages\\MLJBase\\QXObv\\src\\machines.jl:403\n"
     ]
    }
   ],
   "source": [
    "# K-Means\n",
    "model_kmeans = @load KMeans pkg=Clustering verbosity=0\n",
    "pipe_kmeans = @pipeline Standardizer model_kmeans(k=4)\n",
    "mach_kmeans = machine(pipe_kmeans, df) |> fit!;"
   ]
  },
  {
   "cell_type": "code",
   "execution_count": 16,
   "metadata": {},
   "outputs": [
    {
     "data": {
      "text/plain": [
       "(k_means = (assignments = [1, 4, 1, 1, 1, 1, 4, 4, 1, 1  …  1, 2, 1, 1, 1, 1, 1, 2, 1, 1],\n",
       "            cluster_labels = CategoricalArrays.CategoricalValue{Int64, UInt32}[1, 2, 3, 4],),\n",
       " standardizer = (features_fit = [:por_veg_prot, :veg_psb, :deg1_lev3, :vloc_km, :veg_prot, :pas, :mos_agro, :deg1_lev1, :cos_mean, :vsec_km  …  :elev_mean, :dens_via, :deg0_lev1, :por_cul_pend_100, :deg1_lev2, :deg0_lev3, :pend_100, :por_veg_rem_prot_psb, :deg0_lev4, :deg0_lev2],),\n",
       " machines = Machine[Machine{Standardizer,…}, Machine{KMeans,…}],\n",
       " report_given_machine = OrderedCollections.LittleDict{Any, Any, Vector{Any}, Vector{Any}}(Machine{Standardizer,…} => (features_fit = [:por_veg_prot, :veg_psb, :deg1_lev3, :vloc_km, :veg_prot, :pas, :mos_agro, :deg1_lev1, :cos_mean, :vsec_km  …  :elev_mean, :dens_via, :deg0_lev1, :por_cul_pend_100, :deg1_lev2, :deg0_lev3, :pend_100, :por_veg_rem_prot_psb, :deg0_lev4, :deg0_lev2],), Machine{KMeans,…} => (assignments = [1, 4, 1, 1, 1, 1, 4, 4, 1, 1  …  1, 2, 1, 1, 1, 1, 1, 2, 1, 1], cluster_labels = CategoricalArrays.CategoricalValue{Int64, UInt32}[1, 2, 3, 4])),)"
      ]
     },
     "metadata": {},
     "output_type": "display_data"
    }
   ],
   "source": [
    "rep_kmeans = report(mach_kmeans)"
   ]
  },
  {
   "cell_type": "code",
   "execution_count": 17,
   "metadata": {},
   "outputs": [
    {
     "data": {
      "image/png": "[encoded data removed]",
      "text/plain": [
       "Scene (800px, 600px):\n",
       "  18 Plots:\n",
       "    ├ Combined{Makie.poly, Tuple{Vector{Vector{Point{2, Float32}}}}}\n",
       "    ├ LineSegments{Tuple{Vector{Point{2, Float32}}}}\n",
       "    ├ LineSegments{Tuple{Vector{Point{2, Float32}}}}\n",
       "    ├ LineSegments{Tuple{Vector{Point{2, Float32}}}}\n",
       "    ├ LineSegments{Tuple{Vector{Point{2, Float32}}}}\n",
       "    ├ LineSegments{Tuple{Vector{Point{2, Float32}}}}\n",
       "    ├ LineSegments{Tuple{Vector{Point{2, Float32}}}}\n",
       "    ├ MakieCore.Text{Tuple{String}}\n",
       "    ├ Lines{Tuple{Vector{Point{2, Float32}}}}\n",
       "    ├ MakieCore.Text{Tuple{Vector{Tuple{AbstractString, Point{2, Float32}}}}}\n",
       "    ├ LineSegments{Tuple{Vector{Point{2, Float32}}}}\n",
       "    ├ LineSegments{Tuple{Vector{Point{2, Float32}}}}\n",
       "    ├ MakieCore.Text{Tuple{String}}\n",
       "    ├ Lines{Tuple{Vector{Point{2, Float32}}}}\n",
       "    ├ MakieCore.Text{Tuple{Vector{Tuple{AbstractString, Point{2, Float32}}}}}\n",
       "    ├ Lines{Tuple{Vector{Point{2, Float32}}}}\n",
       "    ├ Lines{Tuple{Vector{Point{2, Float32}}}}\n",
       "    └ MakieCore.Text{Tuple{String}}\n",
       "  1 Child Scene:\n",
       "    └ Scene (729px, 541px)"
      ]
     },
     "metadata": {},
     "output_type": "display_data"
    }
   ],
   "source": [
    "res_kmeans = collect(rep_kmeans.k_means[1])\n",
    "hist(res_kmeans)"
   ]
  },
  {
   "cell_type": "code",
   "execution_count": 18,
   "metadata": {},
   "outputs": [
    {
     "data": {
      "text/plain": [
       "\"C:/Users/julio/Desktop/data/clusters.csv\""
      ]
     },
     "metadata": {},
     "output_type": "display_data"
    }
   ],
   "source": [
    "# Export results\n",
    "CSV.write(\"C:/Users/julio/Desktop/data/clusters.csv\", DataFrame(id=1:length(res_kmeans), clusters=res_kmeans))"
   ]
  }
 ],
 "metadata": {
  "kernelspec": {
   "display_name": "Julia 1.7.0",
   "language": "julia",
   "name": "julia-1.7"
  },
  "language_info": {
   "file_extension": ".jl",
   "mimetype": "application/julia",
   "name": "julia",
   "version": "1.7.0"
  },
  "orig_nbformat": 4
 },
 "nbformat": 4,
 "nbformat_minor": 2
}
